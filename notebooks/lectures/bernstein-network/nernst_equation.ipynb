{
  "nbformat": 4,
  "nbformat_minor": 0,
  "metadata": {
    "colab": {
      "provenance": []
    },
    "kernelspec": {
      "name": "python3",
      "display_name": "Python 3"
    },
    "language_info": {
      "name": "python"
    }
  },
  "cells": [
    {
      "cell_type": "markdown",
      "source": [
        "[![Open In Colab](https://colab.research.google.com/assets/colab-badge.svg)](https://colab.research.google.com/github/{username}/{repository}/blob/{branch}/{path_to_notebook}.ipynb)\n"
      ],
      "metadata": {
        "id": "H1RxH4aUTYlz"
      }
    },
    {
      "cell_type": "code",
      "source": [
        "# Nernst equation"
      ],
      "metadata": {
        "id": "bDNR5ZBkTghV"
      },
      "execution_count": null,
      "outputs": []
    }
  ]
}